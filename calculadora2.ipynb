{
 "cells": [
  {
   "cell_type": "code",
   "execution_count": 2,
   "id": "43465075",
   "metadata": {},
   "outputs": [
    {
     "name": "stdout",
     "output_type": "stream",
     "text": [
      "\n",
      "******************* Calculadora em Python *******************\n",
      "Escolha a operação desejada: \n",
      "1-soma 2-subtração 3-multiplicação 4-divisão: 1\n",
      "Primeiro número: 2\n",
      "segundo número: 2\n",
      "Resultado =  4.0\n",
      "Fim da operação\n"
     ]
    }
   ],
   "source": [
    "print(\"\\n******************* Calculadora em Python *******************\")\n",
    "print(\"Escolha a operação desejada: \")\n",
    "operacao = input(\"1-soma 2-subtração 3-multiplicação 4-divisão: \" )\n",
    "n1 = float(input(\"Primeiro número: \"))\n",
    "n2 = float(input(\"segundo número: \"))\n",
    "if \"1\" in operacao:\n",
    "    soma = n1 + n2\n",
    "    print(\"Resultado = \",soma)\n",
    "elif \"2\" in operacao:\n",
    "    subt = n1 - n2\n",
    "    print(\"Resultado = \",subt)\n",
    "elif \"3\" in operacao:\n",
    "    mult = n1 * n2\n",
    "    print(\"Resultado = \",mult)\n",
    "elif \"4\" in operacao:\n",
    "    div = n1 / n2\n",
    "    print(\"Resultado = \",div)\n",
    "    pass\n",
    "print(\"Fim da operação\")"
   ]
  },
  {
   "cell_type": "code",
   "execution_count": null,
   "id": "432ad8d2",
   "metadata": {},
   "outputs": [],
   "source": []
  }
 ],
 "metadata": {
  "kernelspec": {
   "display_name": "Python 3 (ipykernel)",
   "language": "python",
   "name": "python3"
  },
  "language_info": {
   "codemirror_mode": {
    "name": "ipython",
    "version": 3
   },
   "file_extension": ".py",
   "mimetype": "text/x-python",
   "name": "python",
   "nbconvert_exporter": "python",
   "pygments_lexer": "ipython3",
   "version": "3.9.13"
  }
 },
 "nbformat": 4,
 "nbformat_minor": 5
}
